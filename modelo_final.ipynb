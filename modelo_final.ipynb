{
 "cells": [
  {
   "cell_type": "code",
   "execution_count": 79,
   "metadata": {},
   "outputs": [],
   "source": [
    "import tensorflow as tf\n",
    "import numpy as np\n",
    "from itertools import cycle\n",
    "\n",
    "from keras.preprocessing.image import ImageDataGenerator\n",
    "from sklearn import svm, datasets\n",
    "from sklearn.metrics import roc_curve, auc\n",
    "from sklearn.model_selection import train_test_split\n",
    "from sklearn.preprocessing import label_binarize\n",
    "from sklearn.multiclass import OneVsRestClassifier\n",
    "from scipy import interp\n",
    "from sklearn.metrics import roc_auc_score\n",
    "from keras.utils import to_categorical\n",
    "from keras.models import Sequential\n",
    "from keras.layers import Conv2D\n",
    "from keras.layers import Dropout\n",
    "from keras.layers import MaxPooling2D\n",
    "from keras.layers import AveragePooling2D\n",
    "from keras.layers import Dense\n",
    "from keras.layers import Activation\n",
    "from keras.layers import Flatten\n",
    "import matplotlib.pyplot as plt\n",
    "from keras.preprocessing import image\n",
    "from keras.optimizers import adam\n",
    "# baseline cnn model\n",
    "from numpy import mean\n",
    "from numpy import std\n",
    "from matplotlib import pyplot\n",
    "from sklearn.model_selection import KFold\n",
    "from keras.datasets import mnist\n",
    "from keras.utils import to_categorical\n",
    "from keras.models import Sequential\n",
    "from keras.layers import Conv2D\n",
    "from keras.layers import Dropout\n",
    "from keras.layers import MaxPooling2D\n",
    "from keras.layers import AveragePooling2D\n",
    "from keras.layers import Dense\n",
    "from keras.layers import Activation\n",
    "from keras.layers import Flatten\n",
    "from keras.optimizers import SGD\n",
    "from os import listdir\n",
    "import os, sys\n",
    "from IPython.display import display\n",
    "from IPython.display import Image as _Imgdis\n",
    "from PIL import Image\n",
    "import numpy as np\n",
    "from scipy import ndimage\n",
    "from keras.preprocessing.image import ImageDataGenerator, array_to_img, img_to_array, load_img\n",
    "from keras.models import load_model\n",
    "from keras import backend as K\n",
    "import matplotlib.pyplot as plt\n",
    "import matplotlib.image as mpimg\n",
    "from keras.applications.vgg16 import preprocess_input"
   ]
  },
  {
   "cell_type": "code",
   "execution_count": 7,
   "metadata": {},
   "outputs": [],
   "source": [
    "def load_dataset_plusplus(trainPath, testPath):\n",
    "    # All images will be rescaled by 1./255\n",
    "    train_datagen = ImageDataGenerator(rescale=1/255)\n",
    "    validation_datagen = ImageDataGenerator(rescale=1/255)\n",
    "\n",
    "    # Flow training images in batches of 120 using train_datagen generator\n",
    "    train_generator = train_datagen.flow_from_directory(\n",
    "            trainPath,  # This is the source directory for training images\n",
    "#             classes = ['correct', 'incorrect'],\n",
    "            target_size=(200, 250),  # All images will be resized to 200x200\n",
    "            batch_size=120,\n",
    "            # Use binary labels\n",
    "            class_mode='binary')\n",
    "\n",
    "    # Flow validation images in batches of 19 using valid_datagen generator\n",
    "    validation_generator = validation_datagen.flow_from_directory(\n",
    "            testPath,  # This is the source directory for training images\n",
    "#             classes = ['correct', 'incorrect'],\n",
    "            target_size=(200, 250),  # All images will be resized to 200x200\n",
    "            batch_size=19,\n",
    "            # Use binary labels\n",
    "            class_mode='binary',\n",
    "            shuffle=False)\n",
    "    return train_generator, validation_generator"
   ]
  },
  {
   "cell_type": "code",
   "execution_count": 12,
   "metadata": {},
   "outputs": [
    {
     "name": "stdout",
     "output_type": "stream",
     "text": [
      "Found 600 images belonging to 2 classes.\n",
      "Found 400 images belonging to 2 classes.\n"
     ]
    }
   ],
   "source": [
    "train_generator, validation_generator = load_dataset_plusplus(r'C:\\ejemplo_nuevo\\train', r'C:\\ejemplo_nuevo\\validation')"
   ]
  },
  {
   "cell_type": "code",
   "execution_count": 43,
   "metadata": {},
   "outputs": [],
   "source": [
    "# define cnn model\n",
    "def define_model_mierder():\n",
    "    \n",
    "    model = Sequential()\n",
    "\n",
    "    # This is the first\n",
    "    model.add(Flatten(input_shape = (200,250,3)))\n",
    "    model.add(Dense(128, activation=tf.nn.relu))\n",
    "    model.add(Dense(1, activation=tf.nn.sigmoid))\n",
    "    model.summary()\n",
    "    model.compile(optimizer = adam(lr=0.001, decay=1e-6), loss = 'binary_crossentropy', metrics=['accuracy'])\n",
    "    return model"
   ]
  },
  {
   "cell_type": "code",
   "execution_count": 81,
   "metadata": {},
   "outputs": [],
   "source": [
    "# define cnn model\n",
    "def define_model():\n",
    "    model = Sequential()\n",
    "\n",
    "    # This is the first\n",
    "    model.add(Conv2D(16, kernel_size=(3, 3), activation='relu', input_shape=(200, 250, 3)))\n",
    "    model.add(MaxPooling2D(2,2))\n",
    "    # The second \n",
    "    model.add(Conv2D(32, kernel_size=(3,3), activation='relu'))\n",
    "    model.add(MaxPooling2D(2,2))\n",
    "    # The third\n",
    "    model.add(Conv2D(64, kernel_size=(3,3), activation='relu'))\n",
    "    model.add(MaxPooling2D(2,2))\n",
    "    # The fourth \n",
    "    model.add(Conv2D(64, kernel_size=(3,3), activation='relu'))\n",
    "    model.add(MaxPooling2D(2,2))\n",
    "    # The fifth\n",
    "    model.add(Conv2D(64, kernel_size=(3,3), activation='relu'))\n",
    "    model.add(MaxPooling2D(2,2))\n",
    "    # Flatten the results to feed into a DNN\n",
    "    model.add(Flatten())\n",
    "    # 512 neuron hidden \n",
    "    model.add(Dense(512, activation='relu'))\n",
    "    # Only 1 output neuron. It will contain a value from 0-1 where 0 for 1 class ('dandelions') and 1 for the other ('grass')\n",
    "    model.add(Dense(1, activation='sigmoid'))\n",
    "    model.summary()\n",
    "    model.compile(optimizer = adam(lr=0.001, decay=1e-6), loss = 'binary_crossentropy', metrics=['accuracy'])\n",
    "    return model"
   ]
  },
  {
   "cell_type": "code",
   "execution_count": 24,
   "metadata": {},
   "outputs": [],
   "source": [
    "def train_model(model, train_generator, validation_generator):\n",
    "    history = model.fit(train_generator,steps_per_epoch=8,epochs=15,verbose=1,validation_data = validation_generator,validation_steps=8)\n",
    "    return history"
   ]
  },
  {
   "cell_type": "code",
   "execution_count": 25,
   "metadata": {},
   "outputs": [],
   "source": [
    "def evaluate_model(model, validation_generator, history):\n",
    "    # evaluate a model using k-fold cross-validation\n",
    "    scores, histories = list(), list()\n",
    "    _, acc = model.evaluate(validation_generator)\n",
    "    print('> %.3f' % (acc * 100.0))\n",
    "    # stores scores\n",
    "    scores.append(acc)\n",
    "    histories.append(history)\n",
    "    return scores, histories"
   ]
  },
  {
   "cell_type": "code",
   "execution_count": 46,
   "metadata": {},
   "outputs": [],
   "source": [
    "def metrics(model, validation_generator):\n",
    "    STEP_SIZE_TEST=validation_generator.n//validation_generator.batch_size\n",
    "    validation_generator.reset()\n",
    "    preds = model.predict(validation_generator,\n",
    "                      verbose=1)\n",
    "    fpr, tpr, _ = roc_curve(validation_generator.classes, preds)\n",
    "    roc_auc = auc(fpr, tpr)\n",
    "    plt.figure()\n",
    "    lw = 2\n",
    "    plt.plot(fpr, tpr, color='darkorange',\n",
    "             lw=lw, label='ROC curve (area = %0.2f)' % roc_auc)\n",
    "    plt.plot([0, 1], [0, 1], color='navy', lw=lw, linestyle='--')\n",
    "    plt.xlim([0.0, 1.0])\n",
    "    plt.ylim([0.0, 1.05])\n",
    "    plt.xlabel('False Positive Rate')\n",
    "    plt.ylabel('True Positive Rate')\n",
    "    plt.title('Receiver Operating Characteristic')\n",
    "    plt.legend(loc=\"lower right\")\n",
    "    plt.show()"
   ]
  },
  {
   "cell_type": "code",
   "execution_count": 57,
   "metadata": {},
   "outputs": [],
   "source": [
    "# plot diagnostic learning curves\n",
    "def summarize_diagnostics(histories):\n",
    "    # plot loss\n",
    "    print(histories[0].history['loss'])\n",
    "    print(histories[0].history)\n",
    "    plt.subplot(2, 1, 1)\n",
    "    plt.title('Cross Entropy Loss')\n",
    "    plt.plot(histories[0].history['loss'], color='blue', label='train')\n",
    "    plt.plot(histories[0].history['val_loss'], color='orange', label='test')\n",
    "    # plot accuracy\n",
    "    plt.subplot(2, 1, 2)\n",
    "    plt.title('Classification Accuracy')\n",
    "    plt.plot(histories[0].history['accuracy'], color='blue', label='train')\n",
    "    plt.plot(histories[0].history['val_accuracy'], color='orange', label='test')\n",
    "    plt.show()"
   ]
  },
  {
   "cell_type": "code",
   "execution_count": 58,
   "metadata": {},
   "outputs": [],
   "source": [
    "# summarize model performance\n",
    "def summarize_performance(scores):\n",
    "    # print summary\n",
    "    print('Accuracy: mean=%.3f std=%.3f, n=%d' % (mean(scores)*100, std(scores)*100, len(scores)))\n",
    "    # box and whisker plots of results\n",
    "    plt.boxplot(scores)\n",
    "    plt.show()"
   ]
  },
  {
   "cell_type": "code",
   "execution_count": 75,
   "metadata": {},
   "outputs": [],
   "source": [
    "def se_prendio_la_wea():\n",
    "    print('iniciating definition of the model')\n",
    "    #definicion mierder del modelo\n",
    "#     model = define_model_mierder()\n",
    "    #definicion buena del modelo\n",
    "    model = define_model()\n",
    "\n",
    "    print('entrenamiento del modelo')\n",
    "    history = train_model(model, train_generator, validation_generator)\n",
    "\n",
    "    print('iniciating the evaluation of the model')\n",
    "    scores, histories = evaluate_model(model, validation_generator, history)\n",
    "    metrics(model, validation_generator)\n",
    "    \n",
    "    print('iniciating the diagnostics')\n",
    "    summarize_diagnostics(histories)\n",
    "    \n",
    "    # summarize estimated performance\n",
    "    print('iniciating the diagnostic of performance')\n",
    "    summarize_performance(scores)\n",
    "    \n",
    "    model.summary()\n",
    "    # save model\n",
    "    print('saving the model')\n",
    "    model.save('final_model.h5')"
   ]
  },
  {
   "cell_type": "code",
   "execution_count": 82,
   "metadata": {},
   "outputs": [
    {
     "name": "stdout",
     "output_type": "stream",
     "text": [
      "iniciating definition of the model\n",
      "Model: \"sequential_16\"\n",
      "_________________________________________________________________\n",
      "Layer (type)                 Output Shape              Param #   \n",
      "=================================================================\n",
      "conv2d_16 (Conv2D)           (None, 198, 248, 16)      448       \n",
      "_________________________________________________________________\n",
      "max_pooling2d_16 (MaxPooling (None, 99, 124, 16)       0         \n",
      "_________________________________________________________________\n",
      "conv2d_17 (Conv2D)           (None, 97, 122, 32)       4640      \n",
      "_________________________________________________________________\n",
      "max_pooling2d_17 (MaxPooling (None, 48, 61, 32)        0         \n",
      "_________________________________________________________________\n",
      "conv2d_18 (Conv2D)           (None, 46, 59, 64)        18496     \n",
      "_________________________________________________________________\n",
      "max_pooling2d_18 (MaxPooling (None, 23, 29, 64)        0         \n",
      "_________________________________________________________________\n",
      "conv2d_19 (Conv2D)           (None, 21, 27, 64)        36928     \n",
      "_________________________________________________________________\n",
      "max_pooling2d_19 (MaxPooling (None, 10, 13, 64)        0         \n",
      "_________________________________________________________________\n",
      "conv2d_20 (Conv2D)           (None, 8, 11, 64)         36928     \n",
      "_________________________________________________________________\n",
      "max_pooling2d_20 (MaxPooling (None, 4, 5, 64)          0         \n",
      "_________________________________________________________________\n",
      "flatten_16 (Flatten)         (None, 1280)              0         \n",
      "_________________________________________________________________\n",
      "dense_31 (Dense)             (None, 512)               655872    \n",
      "_________________________________________________________________\n",
      "dense_32 (Dense)             (None, 1)                 513       \n",
      "=================================================================\n",
      "Total params: 753,825\n",
      "Trainable params: 753,825\n",
      "Non-trainable params: 0\n",
      "_________________________________________________________________\n",
      "entrenamiento del modelo\n",
      "Epoch 1/15\n",
      "8/8 [==============================] - 9s 1s/step - loss: 0.7254 - accuracy: 0.4812 - val_loss: 0.6719 - val_accuracy: 1.0000\n",
      "Epoch 2/15\n",
      "8/8 [==============================] - 9s 1s/step - loss: 0.6900 - accuracy: 0.5302 - val_loss: 0.6725 - val_accuracy: 0.8092\n",
      "Epoch 3/15\n",
      "8/8 [==============================] - 9s 1s/step - loss: 0.6751 - accuracy: 0.6187 - val_loss: 0.7470 - val_accuracy: 0.8060\n",
      "Epoch 4/15\n",
      "8/8 [==============================] - 9s 1s/step - loss: 0.6137 - accuracy: 0.6604 - val_loss: 0.5820 - val_accuracy: 0.6184\n",
      "Epoch 5/15\n",
      "8/8 [==============================] - 9s 1s/step - loss: 0.4730 - accuracy: 0.7781 - val_loss: 0.5392 - val_accuracy: 0.7632\n",
      "Epoch 6/15\n",
      "8/8 [==============================] - 10s 1s/step - loss: 0.2879 - accuracy: 0.8802 - val_loss: 0.6284 - val_accuracy: 0.8209\n",
      "Epoch 7/15\n",
      "8/8 [==============================] - 8s 1s/step - loss: 0.1501 - accuracy: 0.9479 - val_loss: 0.0273 - val_accuracy: 0.9803\n",
      "Epoch 8/15\n",
      "8/8 [==============================] - 9s 1s/step - loss: 0.0819 - accuracy: 0.9740 - val_loss: 0.0500 - val_accuracy: 0.9868\n",
      "Epoch 9/15\n",
      "8/8 [==============================] - 10s 1s/step - loss: 0.1766 - accuracy: 0.9406 - val_loss: 0.0112 - val_accuracy: 0.9552\n",
      "Epoch 10/15\n",
      "8/8 [==============================] - 8s 999ms/step - loss: 0.0578 - accuracy: 0.9812 - val_loss: 0.1012 - val_accuracy: 0.9868\n",
      "Epoch 11/15\n",
      "8/8 [==============================] - 9s 1s/step - loss: 0.0372 - accuracy: 0.9885 - val_loss: 0.0063 - val_accuracy: 0.9851\n",
      "Epoch 12/15\n",
      "8/8 [==============================] - 9s 1s/step - loss: 0.0262 - accuracy: 0.9927 - val_loss: 0.0015 - val_accuracy: 0.9737\n",
      "Epoch 13/15\n",
      "8/8 [==============================] - 9s 1s/step - loss: 0.0142 - accuracy: 0.9958 - val_loss: 0.0344 - val_accuracy: 0.9934\n",
      "Epoch 14/15\n",
      "8/8 [==============================] - 9s 1s/step - loss: 0.0066 - accuracy: 1.0000 - val_loss: 0.0205 - val_accuracy: 0.9701\n",
      "Epoch 15/15\n",
      "8/8 [==============================] - 9s 1s/step - loss: 0.0035 - accuracy: 0.9990 - val_loss: 1.2079e-04 - val_accuracy: 0.9934\n",
      "iniciating the evaluation of the model\n",
      "22/22 [==============================] - 4s 173ms/step\n",
      "> 99.000\n",
      "22/22 [==============================] - 4s 169ms/step\n"
     ]
    },
    {
     "data": {
      "image/png": "[encoded data removed]",
      "text/plain": [
       "<Figure size 432x288 with 1 Axes>"
      ]
     },
     "metadata": {
      "needs_background": "light"
     },
     "output_type": "display_data"
    },
    {
     "name": "stdout",
     "output_type": "stream",
     "text": [
      "iniciating the diagnostics\n",
      "[0.7253847569227219, 0.6899993568658829, 0.675057590007782, 0.613733284175396, 0.47297903150320053, 0.28791054897010326, 0.15010932181030512, 0.08189130015671253, 0.17658318346366286, 0.057840427150949836, 0.03721656231209636, 0.026168281445279717, 0.014221213990822434, 0.006553234677994624, 0.003455467289313674]\n",
      "{'val_loss': [0.6719129085540771, 0.6725320816040039, 0.7470039129257202, 0.5819737911224365, 0.5392137765884399, 0.6283907890319824, 0.02733897790312767, 0.049976836889982224, 0.011187819764018059, 0.10124829411506653, 0.006318176630884409, 0.0015023580053821206, 0.03443808853626251, 0.020471390336751938, 0.00012078662257408723], 'val_accuracy': [1.0, 0.8092105388641357, 0.8059701323509216, 0.6184210777282715, 0.7631579041481018, 0.8208954930305481, 0.9802631735801697, 0.9868420958518982, 0.9552238583564758, 0.9868420958518982, 0.9850746393203735, 0.9736841917037964, 0.9934210777282715, 0.9701492786407471, 0.9934210777282715], 'loss': [0.7253847569227219, 0.6899993568658829, 0.675057590007782, 0.613733284175396, 0.47297903150320053, 0.28791054897010326, 0.15010932181030512, 0.08189130015671253, 0.17658318346366286, 0.057840427150949836, 0.03721656231209636, 0.026168281445279717, 0.014221213990822434, 0.006553234677994624, 0.003455467289313674], 'accuracy': [0.48125, 0.53020835, 0.61875, 0.66041666, 0.778125, 0.8802083, 0.9479167, 0.9739583, 0.940625, 0.98125, 0.98854166, 0.9927083, 0.99583334, 1.0, 0.99895835]}\n"
     ]
    },
    {
     "data": {
      "image/png": "[encoded data removed]",
      "text/plain": [
       "<Figure size 432x288 with 2 Axes>"
      ]
     },
     "metadata": {
      "needs_background": "light"
     },
     "output_type": "display_data"
    },
    {
     "name": "stdout",
     "output_type": "stream",
     "text": [
      "iniciating the diagnostic of performance\n",
      "Accuracy: mean=99.000 std=0.000, n=1\n"
     ]
    },
    {
     "data": {
      "image/png": "[encoded data removed]",
      "text/plain": [
       "<Figure size 432x288 with 1 Axes>"
      ]
     },
     "metadata": {
      "needs_background": "light"
     },
     "output_type": "display_data"
    },
    {
     "name": "stdout",
     "output_type": "stream",
     "text": [
      "Model: \"sequential_16\"\n",
      "_________________________________________________________________\n",
      "Layer (type)                 Output Shape              Param #   \n",
      "=================================================================\n",
      "conv2d_16 (Conv2D)           (None, 198, 248, 16)      448       \n",
      "_________________________________________________________________\n",
      "max_pooling2d_16 (MaxPooling (None, 99, 124, 16)       0         \n",
      "_________________________________________________________________\n",
      "conv2d_17 (Conv2D)           (None, 97, 122, 32)       4640      \n",
      "_________________________________________________________________\n",
      "max_pooling2d_17 (MaxPooling (None, 48, 61, 32)        0         \n",
      "_________________________________________________________________\n",
      "conv2d_18 (Conv2D)           (None, 46, 59, 64)        18496     \n",
      "_________________________________________________________________\n",
      "max_pooling2d_18 (MaxPooling (None, 23, 29, 64)        0         \n",
      "_________________________________________________________________\n",
      "conv2d_19 (Conv2D)           (None, 21, 27, 64)        36928     \n",
      "_________________________________________________________________\n",
      "max_pooling2d_19 (MaxPooling (None, 10, 13, 64)        0         \n",
      "_________________________________________________________________\n",
      "conv2d_20 (Conv2D)           (None, 8, 11, 64)         36928     \n",
      "_________________________________________________________________\n",
      "max_pooling2d_20 (MaxPooling (None, 4, 5, 64)          0         \n",
      "_________________________________________________________________\n",
      "flatten_16 (Flatten)         (None, 1280)              0         \n",
      "_________________________________________________________________\n",
      "dense_31 (Dense)             (None, 512)               655872    \n",
      "_________________________________________________________________\n",
      "dense_32 (Dense)             (None, 1)                 513       \n",
      "=================================================================\n",
      "Total params: 753,825\n",
      "Trainable params: 753,825\n",
      "Non-trainable params: 0\n",
      "_________________________________________________________________\n",
      "saving the model\n"
     ]
    }
   ],
   "source": [
    "se_prendio_la_wea()"
   ]
  },
  {
   "cell_type": "code",
   "execution_count": 64,
   "metadata": {},
   "outputs": [],
   "source": [
    "def load_image(filename):\n",
    "# load the image\n",
    "    img = load_img(filename, grayscale=False, target_size=(800, 1000))\n",
    "# convert to array\n",
    "    img = img_to_array(img)\n",
    "# reshape into a single sample with 1 channel\n",
    "    img = img.reshape(3,400,500)\n",
    "# prepare pixel data\n",
    "    img = img.astype('float32')\n",
    "    img = img / 255.0\n",
    "    return img"
   ]
  },
  {
   "cell_type": "code",
   "execution_count": 90,
   "metadata": {},
   "outputs": [],
   "source": [
    "def run_example1():\n",
    "    # load model\n",
    "    model = load_model('final_model.h5')\n",
    "# load the images\n",
    "    #img = np.ndarray(shape=(1, 3, 400, 500),\n",
    "    #                    dtype=np.float32)\n",
    "    \n",
    "    image = load_img('incorrecto.png')\n",
    "    input_arr = img_to_array(image, \"channels_last\")\n",
    "    input_arr = np.array([input_arr])  # Convert single image to a batch.\n",
    "\n",
    "    #img[0] = extract_features('blanco.png')\n",
    "    #print (img.shape)\n",
    "    \n",
    "    # predict the class\n",
    "    digit = model.predict(input_arr)\n",
    "    if(digit[0][0] == 1):\n",
    "        print(\"incorrecto\")\n",
    "    else: \n",
    "        print(\"correcto\")"
   ]
  },
  {
   "cell_type": "code",
   "execution_count": 91,
   "metadata": {},
   "outputs": [
    {
     "name": "stdout",
     "output_type": "stream",
     "text": [
      "incorrecto\n"
     ]
    }
   ],
   "source": [
    "run_example1()"
   ]
  },
  {
   "cell_type": "code",
   "execution_count": null,
   "metadata": {},
   "outputs": [],
   "source": []
  }
 ],
 "metadata": {
  "kernelspec": {
   "display_name": "Python 3",
   "language": "python",
   "name": "python3"
  },
  "language_info": {
   "codemirror_mode": {
    "name": "ipython",
    "version": 3
   },
   "file_extension": ".py",
   "mimetype": "text/x-python",
   "name": "python",
   "nbconvert_exporter": "python",
   "pygments_lexer": "ipython3",
   "version": "3.7.6"
  }
 },
 "nbformat": 4,
 "nbformat_minor": 4
}
