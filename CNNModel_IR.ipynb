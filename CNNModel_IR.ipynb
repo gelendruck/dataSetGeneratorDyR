{
 "cells": [
  {
   "cell_type": "code",
   "execution_count": 1,
   "metadata": {},
   "outputs": [
    {
     "name": "stderr",
     "output_type": "stream",
     "text": [
      "Using TensorFlow backend.\n",
      "C:\\ProgramData\\Anaconda3\\lib\\site-packages\\tensorflow\\python\\framework\\dtypes.py:516: FutureWarning: Passing (type, 1) or '1type' as a synonym of type is deprecated; in a future version of numpy, it will be understood as (type, (1,)) / '(1,)type'.\n",
      "  _np_qint8 = np.dtype([(\"qint8\", np.int8, 1)])\n",
      "C:\\ProgramData\\Anaconda3\\lib\\site-packages\\tensorflow\\python\\framework\\dtypes.py:517: FutureWarning: Passing (type, 1) or '1type' as a synonym of type is deprecated; in a future version of numpy, it will be understood as (type, (1,)) / '(1,)type'.\n",
      "  _np_quint8 = np.dtype([(\"quint8\", np.uint8, 1)])\n",
      "C:\\ProgramData\\Anaconda3\\lib\\site-packages\\tensorflow\\python\\framework\\dtypes.py:518: FutureWarning: Passing (type, 1) or '1type' as a synonym of type is deprecated; in a future version of numpy, it will be understood as (type, (1,)) / '(1,)type'.\n",
      "  _np_qint16 = np.dtype([(\"qint16\", np.int16, 1)])\n",
      "C:\\ProgramData\\Anaconda3\\lib\\site-packages\\tensorflow\\python\\framework\\dtypes.py:519: FutureWarning: Passing (type, 1) or '1type' as a synonym of type is deprecated; in a future version of numpy, it will be understood as (type, (1,)) / '(1,)type'.\n",
      "  _np_quint16 = np.dtype([(\"quint16\", np.uint16, 1)])\n",
      "C:\\ProgramData\\Anaconda3\\lib\\site-packages\\tensorflow\\python\\framework\\dtypes.py:520: FutureWarning: Passing (type, 1) or '1type' as a synonym of type is deprecated; in a future version of numpy, it will be understood as (type, (1,)) / '(1,)type'.\n",
      "  _np_qint32 = np.dtype([(\"qint32\", np.int32, 1)])\n",
      "C:\\ProgramData\\Anaconda3\\lib\\site-packages\\tensorflow\\python\\framework\\dtypes.py:525: FutureWarning: Passing (type, 1) or '1type' as a synonym of type is deprecated; in a future version of numpy, it will be understood as (type, (1,)) / '(1,)type'.\n",
      "  np_resource = np.dtype([(\"resource\", np.ubyte, 1)])\n",
      "C:\\ProgramData\\Anaconda3\\lib\\site-packages\\tensorboard\\compat\\tensorflow_stub\\dtypes.py:541: FutureWarning: Passing (type, 1) or '1type' as a synonym of type is deprecated; in a future version of numpy, it will be understood as (type, (1,)) / '(1,)type'.\n",
      "  _np_qint8 = np.dtype([(\"qint8\", np.int8, 1)])\n",
      "C:\\ProgramData\\Anaconda3\\lib\\site-packages\\tensorboard\\compat\\tensorflow_stub\\dtypes.py:542: FutureWarning: Passing (type, 1) or '1type' as a synonym of type is deprecated; in a future version of numpy, it will be understood as (type, (1,)) / '(1,)type'.\n",
      "  _np_quint8 = np.dtype([(\"quint8\", np.uint8, 1)])\n",
      "C:\\ProgramData\\Anaconda3\\lib\\site-packages\\tensorboard\\compat\\tensorflow_stub\\dtypes.py:543: FutureWarning: Passing (type, 1) or '1type' as a synonym of type is deprecated; in a future version of numpy, it will be understood as (type, (1,)) / '(1,)type'.\n",
      "  _np_qint16 = np.dtype([(\"qint16\", np.int16, 1)])\n",
      "C:\\ProgramData\\Anaconda3\\lib\\site-packages\\tensorboard\\compat\\tensorflow_stub\\dtypes.py:544: FutureWarning: Passing (type, 1) or '1type' as a synonym of type is deprecated; in a future version of numpy, it will be understood as (type, (1,)) / '(1,)type'.\n",
      "  _np_quint16 = np.dtype([(\"quint16\", np.uint16, 1)])\n",
      "C:\\ProgramData\\Anaconda3\\lib\\site-packages\\tensorboard\\compat\\tensorflow_stub\\dtypes.py:545: FutureWarning: Passing (type, 1) or '1type' as a synonym of type is deprecated; in a future version of numpy, it will be understood as (type, (1,)) / '(1,)type'.\n",
      "  _np_qint32 = np.dtype([(\"qint32\", np.int32, 1)])\n",
      "C:\\ProgramData\\Anaconda3\\lib\\site-packages\\tensorboard\\compat\\tensorflow_stub\\dtypes.py:550: FutureWarning: Passing (type, 1) or '1type' as a synonym of type is deprecated; in a future version of numpy, it will be understood as (type, (1,)) / '(1,)type'.\n",
      "  np_resource = np.dtype([(\"resource\", np.ubyte, 1)])\n"
     ]
    }
   ],
   "source": [
    "# baseline cnn model\n",
    "from numpy import mean\n",
    "from numpy import std\n",
    "from matplotlib import pyplot\n",
    "from sklearn.model_selection import KFold\n",
    "from keras.datasets import mnist\n",
    "from keras.utils import to_categorical\n",
    "from keras.models import Sequential\n",
    "from keras.layers import Conv2D\n",
    "from keras.layers import Dropout\n",
    "from keras.layers import MaxPooling2D\n",
    "from keras.layers import AveragePooling2D\n",
    "from keras.layers import Dense\n",
    "from keras.layers import Activation\n",
    "from keras.layers import Flatten\n",
    "from keras.optimizers import SGD\n",
    "from os import listdir\n",
    "import os, sys\n",
    "from IPython.display import display\n",
    "from IPython.display import Image as _Imgdis\n",
    "from PIL import Image\n",
    "import numpy as np\n",
    "from scipy import ndimage\n",
    "from keras.preprocessing.image import ImageDataGenerator, array_to_img, img_to_array, load_img\n",
    "from keras.models import load_model\n",
    "from keras import backend as K\n",
    "import matplotlib.pyplot as plt\n",
    "import matplotlib.image as mpimg\n",
    "from keras.applications.vgg16 import preprocess_input"
   ]
  },
  {
   "cell_type": "code",
   "execution_count": 2,
   "metadata": {},
   "outputs": [],
   "source": [
    "def extract_features(filename):\n",
    "    # Loading and resizing image\n",
    "    image = load_img(filename, target_size=(400,500))\n",
    "    # Convert the image pixels to a numpy array\n",
    "    image = img_to_array(image, \"channels_first\")\n",
    "    # Reshape data for the model\n",
    "    image = image.reshape((image.shape[0], image.shape[1], image.shape[2]))\n",
    "    return image"
   ]
  },
  {
   "cell_type": "code",
   "execution_count": 29,
   "metadata": {},
   "outputs": [],
   "source": [
    "# load train and test dataset\n",
    "def load_dataset(pathImages, pathLabeled):\n",
    "    onlyfiles = [f for f in os.listdir(pathImages) if os.path.isfile(os.path.join(pathImages, f))]\n",
    "    \n",
    "    train_files = []\n",
    "    y_train = []\n",
    "    i=0\n",
    "    for _file in onlyfiles:\n",
    "        train_files.append(_file)\n",
    "\n",
    "    image_width = 1000\n",
    "    image_height = 800\n",
    "    ratio = 2\n",
    "\n",
    "    image_width = int(image_width / ratio)\n",
    "    image_height = int(image_height / ratio)\n",
    "\n",
    "    channels = 3\n",
    "    nb_classes = 1\n",
    "\n",
    "    dataset = np.ndarray(shape=(len(train_files), channels, image_height, image_width),\n",
    "                         dtype=np.float32)\n",
    "    i = 0\n",
    "    for _file in train_files:\n",
    "        dataset[i] = extract_features(pathImages + \"/\" + _file)\n",
    "        i += 1\n",
    "        if i % 100 == 0:\n",
    "            print(\"%d images to array\" % i)\n",
    "    print(\"All images to array!\")\n",
    "\n",
    "    z_train, y_train = np.loadtxt(pathLabeled, delimiter=' | ', unpack = True)\n",
    "    \n",
    "    from sklearn.model_selection import train_test_split\n",
    "\n",
    "    #Splitting \n",
    "    X_train, X_test, y_train, y_test = train_test_split(dataset, y_train, test_size=0.4, random_state=0)\n",
    "    X_test, X_val, y_test, y_val = train_test_split(X_test, y_test, test_size=0.5, random_state=0)\n",
    "    print(\"Train set size: {0}, Val set size: {1}, Test set size: {2}\".format(len(X_train), len(X_val), len(X_test)))\n",
    "    \n",
    "    return X_train, y_train, X_test, y_test, X_val, y_val"
   ]
  },
  {
   "cell_type": "code",
   "execution_count": 4,
   "metadata": {},
   "outputs": [],
   "source": [
    "# define cnn model\n",
    "def define_model():\n",
    "        \n",
    "    model = Sequential()\n",
    "    \n",
    "    model.add(Conv2D(64, kernel_size=(3, 3), activation='relu', input_shape=(3, 400, 500)))\n",
    "    model.add(MaxPooling2D(pool_size=(2, 2), strides=None, padding='same', data_format=None))\n",
    "    model.add(Dropout(0.25))\n",
    "    model.add(Conv2D(128, kernel_size=(1, 1), activation='relu'))\n",
    "    model.add(MaxPooling2D(pool_size=(2, 2), strides=None, padding='same', data_format=None))\n",
    "    model.add(Flatten())\n",
    "    model.add(Dense(256, activation='relu', kernel_initializer='he_uniform'))\n",
    "    \n",
    "    model.add(Dense(1, activation='sigmoid'))\n",
    "#   compile model\n",
    "    opt = SGD(lr=0.01, momentum=0.9)\n",
    "    model.compile(optimizer=opt, loss='binary_crossentropy', metrics=['accuracy'])\n",
    "    return model"
   ]
  },
  {
   "cell_type": "code",
   "execution_count": 5,
   "metadata": {},
   "outputs": [],
   "source": [
    "# scale pixels\n",
    "def prep_pixels(train, test):\n",
    "\t# convert from integers to floats\n",
    "\ttrain_norm = train.astype('float32')\n",
    "\ttest_norm = test.astype('float32')\n",
    "\t# normalize to range 0-1\n",
    "\ttrain_norm = train_norm / 255.0\n",
    "\ttest_norm = test_norm / 255.0\n",
    "\t# return normalized images\n",
    "\treturn train_norm, test_norm"
   ]
  },
  {
   "cell_type": "code",
   "execution_count": null,
   "metadata": {},
   "outputs": [],
   "source": [
    "# evaluate a model using k-fold cross-validation\n",
    "def evaluate_model(dataX, dataY, n_folds=5):\n",
    "\tscores, histories = list(), list()\n",
    "\t# prepare cross validation\n",
    "\tkfold = KFold(n_folds, shuffle=True, random_state=1)\n",
    "\t# enumerate splits\n",
    "\tfor train_ix, test_ix in kfold.split(dataX):\n",
    "\t\t# define model\n",
    "\t\tmodel = define_model()\n",
    "\t\t# select rows for train and test\n",
    "\t\ttrainX, trainY, testX, testY = dataX[train_ix], dataY[train_ix], dataX[test_ix], dataY[test_ix]\n",
    "\t\t# fit model\n",
    "\t\thistory = model.fit(trainX, trainY, batch_size=32, epochs=10, verbose=0, validation_data=(testX, testY))\n",
    "\t\t# evaluate model\n",
    "\t\t_, acc = model.evaluate(testX, testY, verbose=0)\n",
    "\t\tprint('> %.3f' % (acc * 100.0))\n",
    "\t\t# stores scores\n",
    "\t\tscores.append(acc)\n",
    "\t\thistories.append(history)\n",
    "\treturn scores, histories, model"
   ]
  },
  {
   "cell_type": "code",
   "execution_count": 6,
   "metadata": {},
   "outputs": [],
   "source": [
    "# evaluate a model using k-fold cross-validation\n",
    "def evaluate_model(dataX, dataY, model, history):\n",
    "\tscores, histories = list(), list()\n",
    "\t# evaluate model\n",
    "\t_, acc = model.evaluate(dataX, dataY, verbose=0)\n",
    "\tprint('> %.3f' % (acc * 100.0))\n",
    "\t# stores scores\n",
    "\tscores.append(acc)\n",
    "\thistories.append(history)\n",
    "\treturn scores, histories"
   ]
  },
  {
   "cell_type": "code",
   "execution_count": 24,
   "metadata": {},
   "outputs": [],
   "source": [
    "# plot diagnostic learning curves\n",
    "def summarize_diagnostics(histories):\n",
    "\t# plot loss\n",
    "\tprint(histories[0].history['loss'])\n",
    "\tprint(histories[0].history)\n",
    "\tpyplot.subplot(2, 1, 1)\n",
    "\tpyplot.title('Cross Entropy Loss')\n",
    "\tpyplot.plot(histories[0].history['loss'], color='blue', label='train')\n",
    "\tpyplot.plot(histories[0].history['val_loss'], color='orange', label='test')\n",
    "\t# plot accuracy\n",
    "\tpyplot.subplot(2, 1, 2)\n",
    "\tpyplot.title('Classification Accuracy')\n",
    "\tpyplot.plot(histories[0].history['accuracy'], color='blue', label='train')\n",
    "\tpyplot.plot(histories[0].history['val_accuracy'], color='orange', label='test')\n",
    "\tpyplot.show()"
   ]
  },
  {
   "cell_type": "code",
   "execution_count": 10,
   "metadata": {},
   "outputs": [],
   "source": [
    "# summarize model performance\n",
    "def summarize_performance(scores):\n",
    "\t# print summary\n",
    "\tprint('Accuracy: mean=%.3f std=%.3f, n=%d' % (mean(scores)*100, std(scores)*100, len(scores)))\n",
    "\t# box and whisker plots of results\n",
    "\tpyplot.boxplot(scores)\n",
    "\tpyplot.show()"
   ]
  },
  {
   "cell_type": "code",
   "execution_count": 30,
   "metadata": {},
   "outputs": [
    {
     "name": "stdout",
     "output_type": "stream",
     "text": [
      "100 images to array\n",
      "200 images to array\n",
      "300 images to array\n",
      "400 images to array\n",
      "500 images to array\n",
      "600 images to array\n",
      "700 images to array\n",
      "800 images to array\n",
      "900 images to array\n",
      "1000 images to array\n",
      "All images to array!\n",
      "Train set size: 600, Val set size: 200, Test set size: 200\n"
     ]
    }
   ],
   "source": [
    "trainX, trainY, testX, testY, X_val, y_val = load_dataset('C:\\images\\second-batch', 'C:\\images\\second-batch\\labeled\\\\temporal.txt')"
   ]
  },
  {
   "cell_type": "code",
   "execution_count": 31,
   "metadata": {},
   "outputs": [],
   "source": [
    "# run the test harness for evaluating a model\n",
    "def run_test_harness(trainX, trainY, testX, testY, X_val, y_val):\n",
    "    # define model\n",
    "    print('iniciating definition of the model')\n",
    "    model = define_model()\n",
    "    # prepare pixel data\n",
    "#     print('iniciating the  preparation of pixel data')\n",
    "#     trainX, testX = prep_pixels(trainX, testX)\n",
    "    # fit model\n",
    "    print('iniciating the fit of the model')\n",
    "    history = model.fit(trainX, trainY, epochs=5, batch_size=32, verbose=0, validation_data=(X_val, y_val))\n",
    "    # evaluate model\n",
    "    print('iniciating theevaluation of the model')\n",
    "    scores, histories = evaluate_model(testX, testY, model, history)\n",
    "    # learning curves\n",
    "    print('iniciating the diagnostics')\n",
    "    summarize_diagnostics(histories)\n",
    "    # summarize estimated performance\n",
    "    print('iniciating the diagnostic of performance')\n",
    "    summarize_performance(scores)\n",
    "    model.summary()\n",
    "    # save model\n",
    "    print('saving the model')\n",
    "    model.save('final_model.h5')"
   ]
  },
  {
   "cell_type": "code",
   "execution_count": 32,
   "metadata": {},
   "outputs": [
    {
     "name": "stdout",
     "output_type": "stream",
     "text": [
      "iniciating definition of the model\n",
      "iniciating the fit of the model\n",
      "iniciating theevaluation of the model\n",
      "> 48.000\n",
      "iniciating the diagnostics\n",
      "[nan, 0.698288037776947, 0.695469540754954, 0.6941864935557047, 0.6932697709401449]\n",
      "{'val_loss': [0.7042730164527893, 0.6992637848854065, 0.6956194043159485, 0.692315878868103, 0.6891736507415771], 'val_accuracy': [0.4399999976158142, 0.4399999976158142, 0.4399999976158142, 0.4399999976158142, 0.5649999976158142], 'loss': [nan, 0.698288037776947, 0.695469540754954, 0.6941864935557047, 0.6932697709401449], 'accuracy': [0.45833334, 0.49166667, 0.49166667, 0.49166667, 0.48833334]}\n"
     ]
    },
    {
     "data": {
      "image/png": "[encoded data removed]",
      "text/plain": [
       "<Figure size 432x288 with 2 Axes>"
      ]
     },
     "metadata": {
      "needs_background": "light"
     },
     "output_type": "display_data"
    },
    {
     "name": "stdout",
     "output_type": "stream",
     "text": [
      "iniciating the diagnostic of performance\n",
      "Accuracy: mean=48.000 std=0.000, n=1\n"
     ]
    },
    {
     "data": {
      "image/png": "[encoded data removed]",
      "text/plain": [
       "<Figure size 432x288 with 1 Axes>"
      ]
     },
     "metadata": {
      "needs_background": "light"
     },
     "output_type": "display_data"
    },
    {
     "name": "stdout",
     "output_type": "stream",
     "text": [
      "Model: \"sequential_6\"\n",
      "_________________________________________________________________\n",
      "Layer (type)                 Output Shape              Param #   \n",
      "=================================================================\n",
      "conv2d_11 (Conv2D)           (None, 1, 398, 64)        288064    \n",
      "_________________________________________________________________\n",
      "max_pooling2d_11 (MaxPooling (None, 1, 199, 64)        0         \n",
      "_________________________________________________________________\n",
      "dropout_6 (Dropout)          (None, 1, 199, 64)        0         \n",
      "_________________________________________________________________\n",
      "conv2d_12 (Conv2D)           (None, 1, 199, 128)       8320      \n",
      "_________________________________________________________________\n",
      "max_pooling2d_12 (MaxPooling (None, 1, 100, 128)       0         \n",
      "_________________________________________________________________\n",
      "flatten_6 (Flatten)          (None, 12800)             0         \n",
      "_________________________________________________________________\n",
      "dense_11 (Dense)             (None, 256)               3277056   \n",
      "_________________________________________________________________\n",
      "dense_12 (Dense)             (None, 1)                 257       \n",
      "=================================================================\n",
      "Total params: 3,573,697\n",
      "Trainable params: 3,573,697\n",
      "Non-trainable params: 0\n",
      "_________________________________________________________________\n",
      "saving the model\n"
     ]
    }
   ],
   "source": [
    "# entry point, run the test harness\n",
    "run_test_harness(trainX, trainY, testX, testY, X_val, y_val)"
   ]
  },
  {
   "cell_type": "code",
   "execution_count": null,
   "metadata": {},
   "outputs": [],
   "source": [
    "trainX2, trainY2, testX2, testY2, X_val2, y_val2 = load_dataset('C:\\images\\second-batch', 'C:\\images\\second-batch\\labeled\\\\temporal.txt')"
   ]
  },
  {
   "cell_type": "code",
   "execution_count": null,
   "metadata": {},
   "outputs": [],
   "source": [
    "def keep_training_to_be_mamadisimo(trainX2, trainY2, testX2, testY2, X_val2, y_val2):\n",
    "    model = load_model('final_model.h5')\n",
    "    print('iniciating the  preparation of pixel data')\n",
    "    trainX, testX = prep_pixels(trainX2, testX2)\n",
    "    # fit model\n",
    "    print('iniciating the fit of the model')\n",
    "    history = model.fit(trainX, trainY, epochs=10, batch_size=32, verbose=0, validation_data=(X_val2, y_val2))\n",
    "    # evaluate model\n",
    "    print('iniciating theevaluation of the model')\n",
    "    scores, histories = evaluate_model(testX, testY, model, history)\n",
    "    # learning curves\n",
    "    print('iniciating the diagnostics')\n",
    "    summarize_diagnostics(histories)\n",
    "    # summarize estimated performance\n",
    "    print('iniciating the diagnostic of performance')\n",
    "    summarize_performance(scores)\n",
    "    # save model\n",
    "    print('saving the model')\n",
    "    model.save('final_model.h5')"
   ]
  },
  {
   "cell_type": "code",
   "execution_count": null,
   "metadata": {},
   "outputs": [],
   "source": [
    "keep_training_to_be_mamadisimo()"
   ]
  },
  {
   "cell_type": "code",
   "execution_count": null,
   "metadata": {},
   "outputs": [],
   "source": [
    "def run_example():\n",
    "    # load model\n",
    "    model = load_model('final_model.h5')\n",
    "# load the images\n",
    "    #img = np.ndarray(shape=(1, 3, 400, 500),\n",
    "    #                    dtype=np.float32)\n",
    "    \n",
    "    image = load_img('blanco.png')\n",
    "    input_arr = img_to_array(image, \"channels_first\")\n",
    "    input_arr = np.array([input_arr])  # Convert single image to a batch.\n",
    "\n",
    "    #img[0] = extract_features('blanco.png')\n",
    "    #print (img.shape)\n",
    "    \n",
    "    # predict the class\n",
    "    digit = model.predict(input_arr)\n",
    "    print(digit)\n",
    "def load_image(filename):\n",
    "# load the image\n",
    "    img = load_img(filename, grayscale=False, target_size=(800, 1000))\n",
    "# convert to array\n",
    "    img = img_to_array(img)\n",
    "# reshape into a single sample with 1 channel\n",
    "    img = img.reshape(3,400,500)\n",
    "# prepare pixel data\n",
    "    img = img.astype('float32')\n",
    "    img = img / 255.0\n",
    "    return img"
   ]
  },
  {
   "cell_type": "code",
   "execution_count": null,
   "metadata": {},
   "outputs": [],
   "source": [
    "# trainX2, trainY2, testX2, testY2 = load_dataset('C:\\carpetaInutil', 'C:\\etiquetadoMal.txt')"
   ]
  },
  {
   "cell_type": "code",
   "execution_count": null,
   "metadata": {
    "scrolled": true
   },
   "outputs": [],
   "source": [
    "# entry point, run the example\n",
    "run_example()"
   ]
  }
 ],
 "metadata": {
  "kernelspec": {
   "display_name": "Python 3",
   "language": "python",
   "name": "python3"
  },
  "language_info": {
   "codemirror_mode": {
    "name": "ipython",
    "version": 3
   },
   "file_extension": ".py",
   "mimetype": "text/x-python",
   "name": "python",
   "nbconvert_exporter": "python",
   "pygments_lexer": "ipython3",
   "version": "3.7.6"
  }
 },
 "nbformat": 4,
 "nbformat_minor": 4
}
