{
 "cells": [
  {
   "cell_type": "code",
   "execution_count": 16,
   "metadata": {},
   "outputs": [],
   "source": [
    "# baseline cnn model\n",
    "from numpy import mean\n",
    "from numpy import std\n",
    "from matplotlib import pyplot\n",
    "from sklearn.model_selection import KFold\n",
    "from keras.datasets import mnist\n",
    "from keras.utils import to_categorical\n",
    "from keras.models import Sequential\n",
    "from keras.layers import Conv2D\n",
    "from keras.layers import Dropout\n",
    "from keras.layers import MaxPooling2D\n",
    "from keras.layers import AveragePooling2D\n",
    "from keras.layers import Dense\n",
    "from keras.layers import Activation\n",
    "from keras.layers import Flatten\n",
    "from keras.optimizers import SGD\n",
    "from os import listdir\n",
    "import os, sys\n",
    "from IPython.display import display\n",
    "from IPython.display import Image as _Imgdis\n",
    "from PIL import Image\n",
    "import numpy as np\n",
    "from scipy import ndimage\n",
    "from keras.preprocessing.image import ImageDataGenerator, array_to_img, img_to_array, load_img\n",
    "from keras.models import load_model\n",
    "from keras import backend as K"
   ]
  },
  {
   "cell_type": "code",
   "execution_count": 17,
   "metadata": {},
   "outputs": [],
   "source": [
    "# load train and test dataset\n",
    "def load_dataset(pathImages, pathLabeled):\n",
    "    onlyfiles = [f for f in os.listdir(pathImages) if os.path.isfile(os.path.join(pathImages, f))]\n",
    "    \n",
    "    train_files = []\n",
    "    y_train = []\n",
    "    i=0\n",
    "    for _file in onlyfiles:\n",
    "        train_files.append(_file)\n",
    "\n",
    "    image_width = 1000\n",
    "    image_height = 800\n",
    "    ratio = 2\n",
    "\n",
    "    image_width = int(image_width / ratio)\n",
    "    image_height = int(image_height / ratio)\n",
    "\n",
    "    channels = 3\n",
    "    nb_classes = 1\n",
    "\n",
    "    dataset = np.ndarray(shape=(len(train_files), channels, image_height, image_width),\n",
    "                         dtype=np.float32)\n",
    "    i = 0\n",
    "    for _file in train_files:\n",
    "        img = load_img(pathImages + \"/\" + _file)  # this is a PIL image\n",
    "        img.thumbnail((image_width, image_height))\n",
    "        # Convert to Numpy Array\n",
    "        x = img_to_array(img)  \n",
    "        x = x.reshape(-1, 3,400,500)\n",
    "        # Normalize\n",
    "#         x = (x - 128.0) / 128.0\n",
    "        dataset[i] = x\n",
    "        i += 1\n",
    "#         if i % 100 == 0:\n",
    "#             print(\"%d images to array\" % i)\n",
    "    print(\"All images to array!\")\n",
    "\n",
    "#    for i in dataset:\n",
    "#        print(i.size)\n",
    "    \n",
    "    z_train, y_train = np.loadtxt(pathLabeled, delimiter=' | ', unpack = True)\n",
    "    \n",
    "    from sklearn.model_selection import train_test_split\n",
    "\n",
    "    #Splitting \n",
    "    X_train, X_test, y_train, y_test = train_test_split(dataset, y_train, test_size=0.4, random_state=0)\n",
    "    X_test, X_val, y_test, y_val = train_test_split(X_test, y_test, test_size=0.5, random_state=0)\n",
    "    print(\"Train set size: {0}, Val set size: {1}, Test set size: {2}\".format(len(X_train), len(X_val), len(X_test)))\n",
    "    \n",
    "#     from keras.utils import to_categorical\n",
    "#     y_binary = to_categorical(y_train)\n",
    "    \n",
    "#     print(y_train)\n",
    "#     print(y_test)\n",
    "#     print(y_val)\n",
    "#     print(z_train)\n",
    "#     print(y_binary)\n",
    "    \n",
    "    return X_train, y_train, X_test, y_test"
   ]
  },
  {
   "cell_type": "code",
   "execution_count": 18,
   "metadata": {},
   "outputs": [],
   "source": [
    "# test_array = np.random.rand(3,2)\n",
    "# test_vector = np.random.rand(4)\n",
    "\n",
    "# np.savez_compressed('C:/Users/Dani/data/images', a = test_array, b = test_vector)\n"
   ]
  },
  {
   "cell_type": "code",
   "execution_count": 63,
   "metadata": {},
   "outputs": [],
   "source": [
    "# define cnn model\n",
    "# define cnn model\n",
    "def define_model():\n",
    "        \n",
    "    model = Sequential()\n",
    "    \n",
    "    model.add(Conv2D(32, (3, 3), activation='relu', input_shape=(3, 400, 500)))\n",
    "    model.add(MaxPooling2D(pool_size=(2, 2), strides=None, padding='same', data_format=None))\n",
    "    model.add(Dropout(0.25))\n",
    "    model.add(Conv2D(16, kernel_size=(1, 1), activation='relu'))\n",
    "    model.add(MaxPooling2D(pool_size=(1, 1)))\n",
    "    model.add(Flatten())\n",
    "    model.add(Dense(100, activation='relu', kernel_initializer='he_uniform'))\n",
    "    \n",
    "    model.add(Dense(1, activation='sigmoid'))\n",
    "#   compile model\n",
    "    opt = SGD(lr=0.01, momentum=0.9)\n",
    "    model.compile(optimizer=opt, loss='binary_crossentropy', metrics=['accuracy'])\n",
    "    return model"
   ]
  },
  {
   "cell_type": "code",
   "execution_count": 20,
   "metadata": {},
   "outputs": [],
   "source": [
    "# def define_model():\n",
    "     \n",
    "#     if K.image_data_format() == 'channels_first':\n",
    "#         input_shape = (3, 400, 500)\n",
    "#     else:\n",
    "#         input_shape = (400, 500, 3)\n",
    "\n",
    "#     print(K.image_data_format())\n",
    "#     print(input_shape)\n",
    "        \n",
    "#     model = Sequential()\n",
    "#     model.add(Conv2D(32, (3, 3), input_shape=(3, 400, 500)))\n",
    "#     model.add(Activation('relu'))\n",
    "#     model.add(MaxPooling2D(pool_size=(2, 2), padding='same'))\n",
    "\n",
    "#     model.add(Conv2D(32, (3, 3), data_format='channels_first'))\n",
    "#     model.add(Activation('relu'))\n",
    "#     model.add(MaxPooling2D(pool_size=(2, 2)))\n",
    "\n",
    "#     model.add(Conv2D(64, (3, 3) , data_format='channels_first'))\n",
    "#     model.add(Activation('relu'))\n",
    "#     model.add(MaxPooling2D(pool_size=(2, 2)))\n",
    "\n",
    "#     model.add(Flatten())\n",
    "#     model.add(Dense(64))\n",
    "#     model.add(Activation('relu'))\n",
    "#     model.add(Dropout(0.5))\n",
    "#     model.add(Dense(1))\n",
    "#     model.add(Activation('sigmoid'))\n",
    "# #   compile model\n",
    "#     opt = SGD(lr=0.01, momentum=0.9)\n",
    "#     model.compile(optimizer=opt, loss='binary_crossentropy', metrics=['accuracy'])\n",
    "    \n",
    "#     return model"
   ]
  },
  {
   "cell_type": "code",
   "execution_count": 21,
   "metadata": {},
   "outputs": [],
   "source": [
    "# scale pixels\n",
    "def prep_pixels(train, test):\n",
    "\t# convert from integers to floats\n",
    "\ttrain_norm = train.astype('float32')\n",
    "\ttest_norm = test.astype('float32')\n",
    "\t# normalize to range 0-1\n",
    "\ttrain_norm = train_norm / 255.0\n",
    "\ttest_norm = test_norm / 255.0\n",
    "\t# return normalized images\n",
    "\treturn train_norm, test_norm"
   ]
  },
  {
   "cell_type": "code",
   "execution_count": 22,
   "metadata": {},
   "outputs": [],
   "source": [
    "# evaluate a model using k-fold cross-validation\n",
    "def evaluate_model(dataX, dataY, n_folds=5):\n",
    "\tscores, histories = list(), list()\n",
    "\t# prepare cross validation\n",
    "\tkfold = KFold(n_folds, shuffle=True, random_state=1)\n",
    "\t# enumerate splits\n",
    "\tfor train_ix, test_ix in kfold.split(dataX):\n",
    "\t\t# define model\n",
    "\t\tmodel = define_model()\n",
    "\t\t# select rows for train and test\n",
    "\t\ttrainX, trainY, testX, testY = dataX[train_ix], dataY[train_ix], dataX[test_ix], dataY[test_ix]\n",
    "\t\t# fit model\n",
    "\t\thistory = model.fit(trainX, trainY, batch_size=32, epochs=10, verbose=0, validation_data=(testX, testY))\n",
    "\t\t# evaluate model\n",
    "\t\t_, acc = model.evaluate(testX, testY, verbose=0)\n",
    "\t\tprint('> %.3f' % (acc * 100.0))\n",
    "\t\t# stores scores\n",
    "\t\tscores.append(acc)\n",
    "\t\thistories.append(history)\n",
    "\treturn scores, histories"
   ]
  },
  {
   "cell_type": "code",
   "execution_count": 23,
   "metadata": {},
   "outputs": [],
   "source": [
    "# plot diagnostic learning curves\n",
    "def summarize_diagnostics(histories):\n",
    "\tfor i in range(len(histories)):\n",
    "\t\t# plot loss\n",
    "\t\tpyplot.subplot(2, 1, 1)\n",
    "\t\tpyplot.title('Cross Entropy Loss')\n",
    "\t\tpyplot.plot(histories[i].history['loss'], color='blue', label='train')\n",
    "\t\tpyplot.plot(histories[i].history['val_loss'], color='orange', label='test')\n",
    "\t\t# plot accuracy\n",
    "\t\tpyplot.subplot(2, 1, 2)\n",
    "\t\tpyplot.title('Classification Accuracy')\n",
    "\t\tpyplot.plot(histories[i].history['accuracy'], color='blue', label='train')\n",
    "\t\tpyplot.plot(histories[i].history['val_accuracy'], color='orange', label='test')\n",
    "\tpyplot.show()"
   ]
  },
  {
   "cell_type": "code",
   "execution_count": 24,
   "metadata": {},
   "outputs": [],
   "source": [
    "# summarize model performance\n",
    "def summarize_performance(scores):\n",
    "\t# print summary\n",
    "\tprint('Accuracy: mean=%.3f std=%.3f, n=%d' % (mean(scores)*100, std(scores)*100, len(scores)))\n",
    "\t# box and whisker plots of results\n",
    "\tpyplot.boxplot(scores)\n",
    "\tpyplot.show()"
   ]
  },
  {
   "cell_type": "code",
   "execution_count": 25,
   "metadata": {},
   "outputs": [
    {
     "name": "stdout",
     "output_type": "stream",
     "text": [
      "All images to array!\n",
      "Train set size: 600, Val set size: 200, Test set size: 200\n"
     ]
    }
   ],
   "source": [
    "trainX, trainY, testX, testY = load_dataset('C:\\images', 'C:\\labeled.txt')"
   ]
  },
  {
   "cell_type": "code",
   "execution_count": 11,
   "metadata": {},
   "outputs": [],
   "source": [
    "# trainX2 = np.append(trainX2, trainX, axis = 0)\n",
    "# trainY2 =np.append(trainY2, trainY)\n",
    "# testX2 =np.append(testX2, testX, axis = 0)\n",
    "# testY2 =np.append(testY2, testY, axis = 0)"
   ]
  },
  {
   "cell_type": "code",
   "execution_count": 64,
   "metadata": {},
   "outputs": [],
   "source": [
    "# run the test harness for evaluating a model\n",
    "def run_test_harness(trainX, trainY, testX, testY):\n",
    "    print('iniciating the load of the dataset')\n",
    "    # load dataset\n",
    "#     trainX, trainY, testX, testY = load_dataset()\n",
    "    # prepare pixel data\n",
    "    print('iniciating the  preparation of pixel data')\n",
    "#     trainX, testX = prep_pixels(trainX, testX)\n",
    "    # evaluate model\n",
    "    print('iniciating theevaluation of the model')\n",
    "    scores, histories = evaluate_model(trainX, trainY)\n",
    "    # learning curves\n",
    "    print('iniciating the diagnostics')\n",
    "    summarize_diagnostics(histories)\n",
    "    # summarize estimated performance\n",
    "    print('iniciating the diagnostic of performance')\n",
    "    summarize_performance(scores)\n",
    "    # define model\n",
    "    print('iniciating definition of the model')\n",
    "    model = define_model()\n",
    "    model.summary()\n",
    "    # fit model\n",
    "    print('iniciating the fit of the model')\n",
    "    model.fit(trainX, trainY, epochs=10, batch_size=32, verbose=0)\n",
    "    # save model\n",
    "    print('saving the model')\n",
    "    model.save('final_model.h5')"
   ]
  },
  {
   "cell_type": "code",
   "execution_count": 65,
   "metadata": {},
   "outputs": [
    {
     "name": "stdout",
     "output_type": "stream",
     "text": [
      "iniciating the load of the dataset\n",
      "iniciating the  preparation of pixel data\n",
      "iniciating theevaluation of the model\n",
      "> 50.833\n",
      "> 41.667\n",
      "> 54.167\n",
      "> 49.167\n",
      "> 44.167\n",
      "iniciating the diagnostics\n"
     ]
    },
    {
     "name": "stderr",
     "output_type": "stream",
     "text": [
      "C:\\ProgramData\\Anaconda3\\lib\\site-packages\\ipykernel_launcher.py:5: MatplotlibDeprecationWarning: Adding an axes using the same arguments as a previous axes currently reuses the earlier instance.  In a future version, a new instance will always be created and returned.  Meanwhile, this warning can be suppressed, and the future behavior ensured, by passing a unique label to each axes instance.\n",
      "  \"\"\"\n",
      "C:\\ProgramData\\Anaconda3\\lib\\site-packages\\ipykernel_launcher.py:10: MatplotlibDeprecationWarning: Adding an axes using the same arguments as a previous axes currently reuses the earlier instance.  In a future version, a new instance will always be created and returned.  Meanwhile, this warning can be suppressed, and the future behavior ensured, by passing a unique label to each axes instance.\n",
      "  # Remove the CWD from sys.path while we load stuff.\n",
      "C:\\ProgramData\\Anaconda3\\lib\\site-packages\\ipykernel_launcher.py:5: MatplotlibDeprecationWarning: Adding an axes using the same arguments as a previous axes currently reuses the earlier instance.  In a future version, a new instance will always be created and returned.  Meanwhile, this warning can be suppressed, and the future behavior ensured, by passing a unique label to each axes instance.\n",
      "  \"\"\"\n",
      "C:\\ProgramData\\Anaconda3\\lib\\site-packages\\ipykernel_launcher.py:10: MatplotlibDeprecationWarning: Adding an axes using the same arguments as a previous axes currently reuses the earlier instance.  In a future version, a new instance will always be created and returned.  Meanwhile, this warning can be suppressed, and the future behavior ensured, by passing a unique label to each axes instance.\n",
      "  # Remove the CWD from sys.path while we load stuff.\n",
      "C:\\ProgramData\\Anaconda3\\lib\\site-packages\\ipykernel_launcher.py:5: MatplotlibDeprecationWarning: Adding an axes using the same arguments as a previous axes currently reuses the earlier instance.  In a future version, a new instance will always be created and returned.  Meanwhile, this warning can be suppressed, and the future behavior ensured, by passing a unique label to each axes instance.\n",
      "  \"\"\"\n",
      "C:\\ProgramData\\Anaconda3\\lib\\site-packages\\ipykernel_launcher.py:10: MatplotlibDeprecationWarning: Adding an axes using the same arguments as a previous axes currently reuses the earlier instance.  In a future version, a new instance will always be created and returned.  Meanwhile, this warning can be suppressed, and the future behavior ensured, by passing a unique label to each axes instance.\n",
      "  # Remove the CWD from sys.path while we load stuff.\n",
      "C:\\ProgramData\\Anaconda3\\lib\\site-packages\\ipykernel_launcher.py:5: MatplotlibDeprecationWarning: Adding an axes using the same arguments as a previous axes currently reuses the earlier instance.  In a future version, a new instance will always be created and returned.  Meanwhile, this warning can be suppressed, and the future behavior ensured, by passing a unique label to each axes instance.\n",
      "  \"\"\"\n",
      "C:\\ProgramData\\Anaconda3\\lib\\site-packages\\ipykernel_launcher.py:10: MatplotlibDeprecationWarning: Adding an axes using the same arguments as a previous axes currently reuses the earlier instance.  In a future version, a new instance will always be created and returned.  Meanwhile, this warning can be suppressed, and the future behavior ensured, by passing a unique label to each axes instance.\n",
      "  # Remove the CWD from sys.path while we load stuff.\n"
     ]
    },
    {
     "data": {
      "image/png": "[encoded data removed]",
      "text/plain": [
       "<Figure size 432x288 with 2 Axes>"
      ]
     },
     "metadata": {
      "needs_background": "light"
     },
     "output_type": "display_data"
    },
    {
     "name": "stdout",
     "output_type": "stream",
     "text": [
      "iniciating the diagnostic of performance\n",
      "Accuracy: mean=48.000 std=4.522, n=5\n"
     ]
    },
    {
     "data": {
      "image/png": "[encoded data removed]",
      "text/plain": [
       "<Figure size 432x288 with 1 Axes>"
      ]
     },
     "metadata": {
      "needs_background": "light"
     },
     "output_type": "display_data"
    },
    {
     "name": "stdout",
     "output_type": "stream",
     "text": [
      "iniciating definition of the model\n",
      "Model: \"sequential_40\"\n",
      "_________________________________________________________________\n",
      "Layer (type)                 Output Shape              Param #   \n",
      "=================================================================\n",
      "conv2d_53 (Conv2D)           (None, 1, 398, 32)        144032    \n",
      "_________________________________________________________________\n",
      "max_pooling2d_32 (MaxPooling (None, 1, 199, 32)        0         \n",
      "_________________________________________________________________\n",
      "dropout_14 (Dropout)         (None, 1, 199, 32)        0         \n",
      "_________________________________________________________________\n",
      "conv2d_54 (Conv2D)           (None, 1, 199, 16)        528       \n",
      "_________________________________________________________________\n",
      "max_pooling2d_33 (MaxPooling (None, 1, 199, 16)        0         \n",
      "_________________________________________________________________\n",
      "flatten_36 (Flatten)         (None, 3184)              0         \n",
      "_________________________________________________________________\n",
      "dense_71 (Dense)             (None, 100)               318500    \n",
      "_________________________________________________________________\n",
      "dense_72 (Dense)             (None, 1)                 101       \n",
      "=================================================================\n",
      "Total params: 463,161\n",
      "Trainable params: 463,161\n",
      "Non-trainable params: 0\n",
      "_________________________________________________________________\n",
      "iniciating the fit of the model\n",
      "saving the model\n"
     ]
    }
   ],
   "source": [
    "# entry point, run the test harness\n",
    "run_test_harness(trainX, trainY, testX, testY)"
   ]
  },
  {
   "cell_type": "code",
   "execution_count": 66,
   "metadata": {},
   "outputs": [],
   "source": [
    "def run_example():\n",
    "    # load model\n",
    "    model = load_model('final_model.h5')\n",
    "# load the images\n",
    "    img = load_image('0.png')\n",
    "    # predict the class\n",
    "    digit = model.predict(img)\n",
    "    print(digit)\n",
    "def load_image(filename):\n",
    "# load the image\n",
    "    img = load_img(filename, grayscale=False, target_size=(800, 1000))\n",
    "# convert to array\n",
    "    img = img_to_array(img)\n",
    "# reshape into a single sample with 1 channel\n",
    "    img = img.reshape(-1, 3,400,500)\n",
    "# prepare pixel data\n",
    "    img = img.astype('float32')\n",
    "    img = img / 255.0\n",
    "    return img"
   ]
  },
  {
   "cell_type": "code",
   "execution_count": 47,
   "metadata": {},
   "outputs": [],
   "source": [
    "# trainX2, trainY2, testX2, testY2 = load_dataset('C:\\carpetaInutil', 'C:\\etiquetadoMal.txt')"
   ]
  },
  {
   "cell_type": "code",
   "execution_count": 67,
   "metadata": {
    "scrolled": true
   },
   "outputs": [
    {
     "name": "stdout",
     "output_type": "stream",
     "text": [
      "[[0.51675373]\n",
      " [0.51675373]\n",
      " [0.51675373]\n",
      " [0.51675373]]\n"
     ]
    }
   ],
   "source": [
    "# entry point, run the example\n",
    "run_example()"
   ]
  },
  {
   "cell_type": "code",
   "execution_count": null,
   "metadata": {},
   "outputs": [],
   "source": []
  },
  {
   "cell_type": "code",
   "execution_count": null,
   "metadata": {},
   "outputs": [],
   "source": []
  }
 ],
 "metadata": {
  "kernelspec": {
   "display_name": "Python 3",
   "language": "python",
   "name": "python3"
  },
  "language_info": {
   "codemirror_mode": {
    "name": "ipython",
    "version": 3
   },
   "file_extension": ".py",
   "mimetype": "text/x-python",
   "name": "python",
   "nbconvert_exporter": "python",
   "pygments_lexer": "ipython3",
   "version": "3.7.6"
  }
 },
 "nbformat": 4,
 "nbformat_minor": 4
}
