{
 "cells": [
  {
   "cell_type": "code",
   "execution_count": 1,
   "metadata": {},
   "outputs": [
    {
     "name": "stderr",
     "output_type": "stream",
     "text": [
      "Using TensorFlow backend.\n"
     ]
    }
   ],
   "source": [
    "# baseline cnn model\n",
    "from numpy import mean\n",
    "from numpy import std\n",
    "from matplotlib import pyplot\n",
    "from sklearn.model_selection import KFold\n",
    "from keras.datasets import mnist\n",
    "from keras.utils import to_categorical\n",
    "from keras.models import Sequential\n",
    "from keras.layers import Conv2D\n",
    "from keras.layers import MaxPooling2D\n",
    "from keras.layers import Dense\n",
    "from keras.layers import Flatten\n",
    "from keras.optimizers import SGD\n",
    "from os import listdir\n",
    "from PIL import Image as PImage"
   ]
  },
  {
   "cell_type": "code",
   "execution_count": null,
   "metadata": {},
   "outputs": [],
   "source": [
    "# load train and test dataset\n",
    "def load_dataset():\n",
    "    # load dataset, we have to know how many images are going to train (60% of dataset's images) and which ones to the test(20%)\n",
    "    cwd = os.getcwd()\n",
    "    dataset_path = cwd + \"/data/images.zip\"\n",
    "    \n",
    "    imagesList = listdir(dataset_path)\n",
    "    loadedImages = []\n",
    "    for image in imagesList:\n",
    "        countIm =+ 1\n",
    "        \n",
    "    countTrain = (countIm * 60)/100\n",
    "    countTest = (countIm * 20)/100\n",
    "    \n",
    "    for image in imagesList:\n",
    "        img = PImage.open(path + image)\n",
    "        loadedImages.append(img)\n",
    "        \n",
    "    \n",
    "    \n",
    "    return loadedImages\n",
    "    \n",
    "    \n",
    "\t#(trainX, trainY), (testX, testY) = mnist.load_data()\n",
    "\t# reshape dataset to have a single channel\n",
    "\t#trainX = trainX.reshape((trainX.shape[0], 28, 28, 1))\n",
    "\t#testX = testX.reshape((testX.shape[0], 28, 28, 1))\n",
    "\t# one hot encode target values\n",
    "\t#trainY = to_categorical(trainY)\n",
    "\t#testY = to_categorical(testY)\n",
    "\t#return trainX, trainY, testX, testY"
   ]
  },
  {
   "cell_type": "code",
   "execution_count": null,
   "metadata": {},
   "outputs": [],
   "source": [
    "#Load Labels\n",
    "    f = open(cwd + \"label.txt\", \"r\")\n",
    "    \n",
    "    imgN = []\n",
    "    imgL = []\n",
    "    contN = 0\n",
    "    contL = 1\n",
    "    vL = []\n",
    "    \n",
    "    for line in f:\n",
    "        read = f.readline()\n",
    "        vl = read.split()\n",
    "        imgN = vL[contN]\n",
    "        imgL = vL[contL]\n",
    "        contN++\n",
    "        contL++\n",
    "        \n",
    "    f.close()\n",
    "#Partir la línea por el espacio para coger la etiqueta y el nombre de la imagen en diferentes variables"
   ]
  },
  {
   "cell_type": "code",
   "execution_count": null,
   "metadata": {},
   "outputs": [],
   "source": [
    "# define cnn model\n",
    "def define_model():\n",
    "\tmodel = Sequential()\n",
    "\tmodel.add(Conv2D(32, (3, 3), activation='relu', kernel_initializer='he_uniform', input_shape=(500, 400, 1)))\n",
    "\tmodel.add(MaxPooling2D((2, 2)))\n",
    "\tmodel.add(Flatten())\n",
    "\tmodel.add(Dense(100, activation='relu', kernel_initializer='he_uniform'))\n",
    "\tmodel.add(Dense(10, activation='softmax'))\n",
    "\t# compile model\n",
    "\topt = SGD(lr=0.01, momentum=0.9)\n",
    "\tmodel.compile(optimizer=opt, loss='categorical_crossentropy', metrics=['accuracy'])\n",
    "\treturn model"
   ]
  }
 ],
 "metadata": {
  "kernelspec": {
   "display_name": "Python 3",
   "language": "python",
   "name": "python3"
  },
  "language_info": {
   "codemirror_mode": {
    "name": "ipython",
    "version": 3
   },
   "file_extension": ".py",
   "mimetype": "text/x-python",
   "name": "python",
   "nbconvert_exporter": "python",
   "pygments_lexer": "ipython3",
   "version": "3.6.9"
  }
 },
 "nbformat": 4,
 "nbformat_minor": 4
}
